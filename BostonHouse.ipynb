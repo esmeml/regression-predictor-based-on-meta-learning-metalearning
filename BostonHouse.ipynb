{
 "cells": [
  {
   "cell_type": "markdown",
   "metadata": {},
   "source": [
    "# Boston House dataset"
   ]
  },
  {
   "cell_type": "markdown",
   "metadata": {},
   "source": [
    "In this notebook, we are going to compare obtain results from the boston house dataset using our engine with the most upvoted notebook from Kaggle ( https://www.kaggle.com/vikrishnan/house-sales-price-using-regression )."
   ]
  },
  {
   "cell_type": "markdown",
   "metadata": {},
   "source": [
    "## I - Prediction from our engine "
   ]
  },
  {
   "cell_type": "code",
   "execution_count": 1,
   "metadata": {},
   "outputs": [],
   "source": [
    "from automl import prediction\n",
    "import pandas as pd\n",
    "import warnings\n",
    "warnings.filterwarnings('ignore')"
   ]
  },
  {
   "cell_type": "code",
   "execution_count": 2,
   "metadata": {},
   "outputs": [],
   "source": [
    "df = pd.read_csv(\n",
    "    'https://archive.ics.uci.edu/ml/machine-learning-databases/housing/housing.data', header=None, sep='\\s+')\n",
    "df.columns = ['CRIM', 'ZN', 'INDUS', 'CHAS', 'NOX', 'RM',\n",
    "              'AGE', 'DIS', 'RAD', 'TAX', 'PTRATIO', 'B', 'LSTAT', 'MEDV']"
   ]
  },
  {
   "cell_type": "code",
   "execution_count": 3,
   "metadata": {},
   "outputs": [
    {
     "name": "stdout",
     "output_type": "stream",
     "text": [
      "NaNs represent 0.0 pourcentage of dataset\n",
      "there is 52.96442687747036 pourcetage of rows with outliers\n",
      "first model:\n",
      "{'model': AdaBoostRegressor(base_estimator=None, learning_rate=1.0, loss='linear',\n",
      "         n_estimators=50, random_state=None), 'accurracy': {'accurracy': 0.8112931987619452, 'rmse': 3.2959885412993692}, 'name': 'AdaBoostRegressor'}\n",
      "second model:\n",
      "{'model': RandomForestRegressor(bootstrap=False, criterion='mse', max_depth=None,\n",
      "           max_features='sqrt', max_leaf_nodes=None,\n",
      "           min_impurity_decrease=0.0, min_impurity_split=None,\n",
      "           min_samples_leaf=1, min_samples_split=5,\n",
      "           min_weight_fraction_leaf=0.0, n_estimators=10, n_jobs=None,\n",
      "           oob_score=False, random_state=None, verbose=0, warm_start=False), 'accurracy': {'accurracy': 0.7865962754147812, 'rmse': 2.551138287741539}, 'name': 'RandomForestRegressor'}\n",
      "third model:\n",
      "{'model': LinearSVR(C=0.95, dual=True, epsilon=0.2, fit_intercept=True,\n",
      "     intercept_scaling=1.0, loss='epsilon_insensitive', max_iter=1000,\n",
      "     random_state=None, tol=0.0001, verbose=0), 'accurracy': {'accurracy': 0.7047616665177261, 'rmse': 5.483075105686499}, 'name': 'LinearSVR', 'Dimension Reduction': True}\n",
      "use .result to access models\n"
     ]
    }
   ],
   "source": [
    "a = prediction(df, 'MEDV')"
   ]
  },
  {
   "cell_type": "markdown",
   "metadata": {},
   "source": [
    "We finally obtain a:\n",
    "- RMSE of 3.29 with an accuracy of 0.81 using an Adaboost Regressor and,\n",
    "- RMSE of 2.55 with an accuracy of 0.78 using a RandomForest Regressor."
   ]
  },
  {
   "cell_type": "markdown",
   "metadata": {},
   "source": [
    "## II - Kaggle results"
   ]
  },
  {
   "cell_type": "markdown",
   "metadata": {},
   "source": [
    "In the Kaggle notebook, the author used a GradientBoosting Regressor and obtained a MSE of 26.32 which mean that he found a RMSE of 5.13."
   ]
  },
  {
   "cell_type": "markdown",
   "metadata": {},
   "source": [
    "## III - Conclusion"
   ]
  },
  {
   "cell_type": "markdown",
   "metadata": {},
   "source": [
    "Our model found a RMSE value close to the one found by the Kaggle author, which means that our engine is properly working."
   ]
  }
 ],
 "metadata": {
  "kernelspec": {
   "display_name": "Python 3",
   "language": "python",
   "name": "python3"
  },
  "language_info": {
   "codemirror_mode": {
    "name": "ipython",
    "version": 3
   },
   "file_extension": ".py",
   "mimetype": "text/x-python",
   "name": "python",
   "nbconvert_exporter": "python",
   "pygments_lexer": "ipython3",
   "version": "3.7.1"
  }
 },
 "nbformat": 4,
 "nbformat_minor": 2
}
