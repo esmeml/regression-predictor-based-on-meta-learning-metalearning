{
 "cells": [
  {
   "cell_type": "code",
   "execution_count": 1,
   "metadata": {},
   "outputs": [],
   "source": [
    "from automl import prediction\n",
    "import pandas as pd\n",
    "import warnings\n",
    "warnings.filterwarnings('ignore')"
   ]
  },
  {
   "cell_type": "code",
   "execution_count": 2,
   "metadata": {},
   "outputs": [],
   "source": [
    "df = pd.read_csv(\n",
    "    'https://archive.ics.uci.edu/ml/machine-learning-databases/housing/housing.data', header=None, sep='\\s+')\n",
    "df.columns = ['CRIM', 'ZN', 'INDUS', 'CHAS', 'NOX', 'RM',\n",
    "              'AGE', 'DIS', 'RAD', 'TAX', 'PTRATIO', 'B', 'LSTAT', 'MEDV']"
   ]
  },
  {
   "cell_type": "code",
   "execution_count": 3,
   "metadata": {},
   "outputs": [
    {
     "name": "stdout",
     "output_type": "stream",
     "text": [
      "NaNs represent 0.0 pourcentage of dataset\n",
      "there is 52.96442687747036 pourcetage of rows with outliers\n",
      "first model:\n",
      "{'model': AdaBoostRegressor(base_estimator=None, learning_rate=1.0, loss='square',\n",
      "         n_estimators=50, random_state=None), 'accurracy': {'accurracy': 0.7886581082995602, 'rmse': 3.8212239230478824}, 'name': 'AdaBoostRegressor'}\n",
      "second model:\n",
      "{'model': ElasticNet(alpha=1.0, copy_X=True, fit_intercept=True, l1_ratio=0.1,\n",
      "      max_iter=1000, normalize=False, positive=False, precompute=False,\n",
      "      random_state=None, selection='random', tol=1e-05, warm_start=False), 'accurracy': {'accurracy': 0.6731625214230862, 'rmse': 4.875310932328671}, 'name': 'ElasticNet'}\n",
      "third model:\n",
      "{'model': Lasso(alpha=0.0001, copy_X=True, fit_intercept=True, max_iter=10000,\n",
      "   normalize=False, positive=False, precompute=False, random_state=0,\n",
      "   selection='cyclic', tol=0.0001, warm_start=False), 'accurracy': {'accurracy': 0.6371135215890482, 'rmse': 4.928574954036562}, 'name': 'lasso'}\n",
      "use .result to access models\n",
      "first model:\n",
      "{'model': AdaBoostRegressor(base_estimator=None, learning_rate=1.0, loss='exponential',\n",
      "         n_estimators=50, random_state=None), 'accurracy': {'accurracy': 0.7090647497551462, 'rmse': 4.366062572623475}, 'name': 'AdaBoostRegressor'}\n",
      "second model:\n",
      "{'model': LinearSVR(C=0.95, dual=True, epsilon=0.2, fit_intercept=True,\n",
      "     intercept_scaling=1.0, loss='epsilon_insensitive', max_iter=1000,\n",
      "     random_state=None, tol=0.0001, verbose=0), 'accurracy': {'accurracy': 0.704772367298482, 'rmse': 5.482916349014507}, 'name': 'LinearSVR'}\n",
      "third model:\n",
      "{'model': ElasticNet(alpha=1.0, copy_X=True, fit_intercept=True, l1_ratio=0.9,\n",
      "      max_iter=1000, normalize=False, positive=False, precompute=False,\n",
      "      random_state=None, selection='random', tol=0.0001, warm_start=False), 'accurracy': {'accurracy': 0.6788046801983496, 'rmse': 5.318838973666684}, 'name': 'ElasticNet'}\n",
      "use .result to access models\n"
     ]
    }
   ],
   "source": [
    "a = prediction(df, 'MEDV')"
   ]
  },
  {
   "cell_type": "code",
   "execution_count": null,
   "metadata": {},
   "outputs": [],
   "source": []
  }
 ],
 "metadata": {
  "kernelspec": {
   "display_name": "Python 3",
   "language": "python",
   "name": "python3"
  },
  "language_info": {
   "codemirror_mode": {
    "name": "ipython",
    "version": 3
   },
   "file_extension": ".py",
   "mimetype": "text/x-python",
   "name": "python",
   "nbconvert_exporter": "python",
   "pygments_lexer": "ipython3",
   "version": "3.7.1"
  }
 },
 "nbformat": 4,
 "nbformat_minor": 2
}
